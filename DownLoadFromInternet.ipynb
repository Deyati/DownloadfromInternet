{
 "cells": [
  {
   "cell_type": "code",
   "execution_count": 22,
   "metadata": {},
   "outputs": [
    {
     "name": "stdout",
     "output_type": "stream",
     "text": [
      "1\n",
      "2\n",
      "3\n",
      "4\n",
      "5\n",
      "6\n",
      "7\n",
      "8\n",
      "9\n"
     ]
    }
   ],
   "source": [
    "#download from website\n",
    "from pathlib import Path\n",
    "import requests\n",
    "URL = 'http://cache.waptrick.one/ebook/pdf/.pdf'\n",
    "FILENAME = 'C:/Users/Shreya/Downloads/.pdf'\n",
    "for i in range(1,10):\n",
    "    print (i)\n",
    "    filename = Path(FILENAME.replace('NN',str(i)))\n",
    "    url = URL.replace('NN',str(i))\n",
    "    response = requests.get(url)\n",
    "    filename.write_bytes(response.content)"
   ]
  },
  {
   "cell_type": "code",
   "execution_count": 38,
   "metadata": {},
   "outputs": [],
   "source": [
    "from pytube import YouTube\n",
    "from pytube import Playlist"
   ]
  },
  {
   "cell_type": "code",
   "execution_count": 27,
   "metadata": {},
   "outputs": [
    {
     "data": {
      "text/plain": [
       "'Sunday Suspense | Purono Din-er Maachhi | পুরোনো দিনের মাছি | Aneesh Deb | Mirchi Bangla'"
      ]
     },
     "execution_count": 27,
     "metadata": {},
     "output_type": "execute_result"
    }
   ],
   "source": [
    "yt = YouTube('https://www.youtube.com/watch?v=4JRfPJ_yk-s&list=PLq71IJk8mCV4-DqsZ7W6zRS7uzKOmmT8j')\n",
    "yt.title"
   ]
  },
  {
   "cell_type": "code",
   "execution_count": 43,
   "metadata": {},
   "outputs": [],
   "source": [
    "pl = Playlist(\"https://www.youtube.com/watch?v=4JRfPJ_yk-s&list=PLq71IJk8mCV4-DqsZ7W6zRS7uzKOmmT8j\")"
   ]
  },
  {
   "cell_type": "code",
   "execution_count": 52,
   "metadata": {},
   "outputs": [
    {
     "data": {
      "text/plain": [
       "224"
      ]
     },
     "execution_count": 52,
     "metadata": {},
     "output_type": "execute_result"
    }
   ],
   "source": [
    "#pl.download_all('C:/Users/Shreya/Downloads/test')\n",
    "\n",
    "youtubeLink = 'https://www.youtube.com'\n",
    "allLinks = []\n",
    "for linkprefix in pl.parse_links():\n",
    "    allLinks.append(youtubeLink+linkprefix)\n",
    "#allLinks\n",
    "len(allLinks)\n"
   ]
  },
  {
   "cell_type": "code",
   "execution_count": 76,
   "metadata": {},
   "outputs": [
    {
     "name": "stdout",
     "output_type": "stream",
     "text": [
      "184   Sunday Suspense | Sadashib-er Aadi Kando | Sharadindu Bandyopadhyay | Mirchi Bangla\n",
      "185   Sunday Suspense | Sadashib-er Agni Kando | Sharadindu Bandyopadhyay | Mirchi Bangla\n",
      "186   Sunday Suspense | Sadashib-er Douro Douri Kando | Sharadindu Bandyopadhyay | Mirchi Bangla\n",
      "187   Sunday Suspense | Sadashib-er Ghora Ghora Kando | Sharadindu Bandyopadhyay | Mirchi Bangla\n",
      "188   Sunday Suspense | Sherlock Holmes | A Case of Identity | Sir Arthur Conan Doyle | 98.3\n"
     ]
    }
   ],
   "source": [
    "_start=184\n",
    "_end=189\n",
    "index=range(_start,_end)\n",
    "for count,link in zip(index,allLinks[_start:_end]):\n",
    "    yt = YouTube(link)\n",
    "    print(count,' ',yt.title)\n",
    "    yt.streams.first().download(output_path='C:/Users/Shreya/Downloads/test', filename=None, filename_prefix=str(count))"
   ]
  },
  {
   "cell_type": "code",
   "execution_count": 74,
   "metadata": {},
   "outputs": [
    {
     "name": "stdout",
     "output_type": "stream",
     "text": [
      "182   Sunday Suspense - Telephone (Hemendra Kumar Roy)\n"
     ]
    },
    {
     "data": {
      "text/plain": [
       "'C:/Users/Shreya/Downloads/test\\\\181Sunday Suspense - Telephone (Hemendra Kumar Roy).webm'"
      ]
     },
     "execution_count": 74,
     "metadata": {},
     "output_type": "execute_result"
    }
   ],
   "source": [
    "link='https://www.youtube.com/watch?v=t8VmaNimxAQ&index=182&list=PLq71IJk8mCV4-DqsZ7W6zRS7uzKOmmT8j'\n",
    "yt = YouTube(link)\n",
    "print(yt.title)\n",
    "yt.streams.first().download(output_path='C:/Users/Shreya/Downloads/test', filename=None, filename_prefix=str(181))"
   ]
  },
  {
   "cell_type": "code",
   "execution_count": 61,
   "metadata": {},
   "outputs": [
    {
     "name": "stdout",
     "output_type": "stream",
     "text": [
      "Sunday Suspense | Feluda | Samaddar-er Chaabi | Satyajit Ray | Mirchi 98.3\n"
     ]
    }
   ],
   "source": [
    "print(YouTube(allLinks[99]).title) "
   ]
  },
  {
   "cell_type": "code",
   "execution_count": null,
   "metadata": {},
   "outputs": [],
   "source": []
  }
 ],
 "metadata": {
  "kernelspec": {
   "display_name": "Python 3",
   "language": "python",
   "name": "python3"
  },
  "language_info": {
   "codemirror_mode": {
    "name": "ipython",
    "version": 3
   },
   "file_extension": ".py",
   "mimetype": "text/x-python",
   "name": "python",
   "nbconvert_exporter": "python",
   "pygments_lexer": "ipython3",
   "version": "3.6.4"
  }
 },
 "nbformat": 4,
 "nbformat_minor": 2
}
